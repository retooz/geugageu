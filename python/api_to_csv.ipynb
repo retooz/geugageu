{
 "cells": [
  {
   "cell_type": "code",
   "execution_count": 8,
   "metadata": {},
   "outputs": [
    {
     "name": "stdout",
     "output_type": "stream",
     "text": [
      "Requirement already satisfied: ikea_api[all] in /Users/retoz/anaconda3/lib/python3.10/site-packages (2.1.0)\n",
      "Collecting pydantic<2.0.0,>=1.8.0\n",
      "  Downloading pydantic-1.10.11-cp310-cp310-macosx_11_0_arm64.whl (2.5 MB)\n",
      "\u001b[2K     \u001b[90m━━━━━━━━━━━━━━━━━━━━━━━━━━━━━━━━━━━━━━━━\u001b[0m \u001b[32m2.5/2.5 MB\u001b[0m \u001b[31m1.1 MB/s\u001b[0m eta \u001b[36m0:00:00\u001b[0m00:01\u001b[0m00:01\u001b[0m0m\n",
      "\u001b[?25hCollecting httpx<0.25,>=0.22\n",
      "  Downloading httpx-0.24.1-py3-none-any.whl (75 kB)\n",
      "\u001b[2K     \u001b[90m━━━━━━━━━━━━━━━━━━━━━━━━━━━━━━━━━━━━━━━━\u001b[0m \u001b[32m75.4/75.4 kB\u001b[0m \u001b[31m2.4 MB/s\u001b[0m eta \u001b[36m0:00:00\u001b[0m\n",
      "\u001b[?25hRequirement already satisfied: requests in /Users/retoz/anaconda3/lib/python3.10/site-packages (from ikea_api[all]) (2.28.1)\n",
      "Requirement already satisfied: idna in /Users/retoz/anaconda3/lib/python3.10/site-packages (from httpx<0.25,>=0.22->ikea_api[all]) (3.4)\n",
      "Collecting httpcore<0.18.0,>=0.15.0\n",
      "  Downloading httpcore-0.17.3-py3-none-any.whl (74 kB)\n",
      "\u001b[2K     \u001b[90m━━━━━━━━━━━━━━━━━━━━━━━━━━━━━━━━━━━━━━━━\u001b[0m \u001b[32m74.5/74.5 kB\u001b[0m \u001b[31m3.1 MB/s\u001b[0m eta \u001b[36m0:00:00\u001b[0m\n",
      "\u001b[?25hRequirement already satisfied: certifi in /Users/retoz/anaconda3/lib/python3.10/site-packages (from httpx<0.25,>=0.22->ikea_api[all]) (2023.5.7)\n",
      "Requirement already satisfied: sniffio in /Users/retoz/anaconda3/lib/python3.10/site-packages (from httpx<0.25,>=0.22->ikea_api[all]) (1.2.0)\n",
      "Requirement already satisfied: typing-extensions>=4.2.0 in /Users/retoz/anaconda3/lib/python3.10/site-packages (from pydantic<2.0.0,>=1.8.0->ikea_api[all]) (4.4.0)\n",
      "Requirement already satisfied: charset-normalizer<3,>=2 in /Users/retoz/anaconda3/lib/python3.10/site-packages (from requests->ikea_api[all]) (2.0.4)\n",
      "Requirement already satisfied: urllib3<1.27,>=1.21.1 in /Users/retoz/anaconda3/lib/python3.10/site-packages (from requests->ikea_api[all]) (1.26.14)\n",
      "Collecting h11<0.15,>=0.13\n",
      "  Downloading h11-0.14.0-py3-none-any.whl (58 kB)\n",
      "\u001b[2K     \u001b[90m━━━━━━━━━━━━━━━━━━━━━━━━━━━━━━━━━━━━━━━━\u001b[0m \u001b[32m58.3/58.3 kB\u001b[0m \u001b[31m5.9 MB/s\u001b[0m eta \u001b[36m0:00:00\u001b[0m\n",
      "\u001b[?25hRequirement already satisfied: anyio<5.0,>=3.0 in /Users/retoz/anaconda3/lib/python3.10/site-packages (from httpcore<0.18.0,>=0.15.0->httpx<0.25,>=0.22->ikea_api[all]) (3.5.0)\n",
      "Installing collected packages: pydantic, h11, httpcore, httpx\n",
      "Successfully installed h11-0.14.0 httpcore-0.17.3 httpx-0.24.1 pydantic-1.10.11\n",
      "Note: you may need to restart the kernel to use updated packages.\n"
     ]
    }
   ],
   "source": [
    "%pip install \"ikea_api[all]\""
   ]
  },
  {
   "cell_type": "code",
   "execution_count": 2,
   "metadata": {},
   "outputs": [],
   "source": [
    "import ikea_api\n",
    "\n",
    "items_not_duplicate = []\n",
    "items_list = []\n",
    "items_names = []\n",
    "\n",
    "constants = ikea_api.Constants(country='kr', language='ko')\n",
    "search = ikea_api.Search(constants)\n"
   ]
  },
  {
   "cell_type": "code",
   "execution_count": 25,
   "metadata": {},
   "outputs": [],
   "source": [
    "items_not_duplicate = []\n",
    "items_list = []\n",
    "items_names = []\n",
    "color_code = []\n",
    "search_words = ['침실','침대','침대 매트리스','침구','침대 협탁','침대수납','침대 갈빗살','수납형침대','소파베드','침실가구세트','영유아 침대','어린이 침대','유아용침대','영유아 가구','로프트','2층침대','쿠션형 침대','간이침대','데이베드','데이베드프레임','디반침대','침대헤드','침대다리','침대 수납','침대 헤드보드 커버','침대프레임','수납침대프레임','쿠션형 침대프레임','높은 침대프레임','코너 침대헤드','보조침대','적층식침대','양면침대','싱글침대','수퍼싱글','더블침대','퀸침대','킹침대','길이조절침대','맞춤형 옷장','옷장콤비네이션','옷장','도어','옷장도어','슬라이딩도어','오픈형옷장','미닫이도어','붙박이장','오픈수납콤비네이션','서랍','옷장서랍','독립형 옷장','수납유닛','접이식도어','선반','여닫이 옷장','미닫이 옷장','오픈형 옷장','현관 옷장','어린이 옷장','거울 옷장','드레스룸 옷장','코너형 옷장','선반형 옷장','옷장 조명','슬라이딩 옷장 도어','계단형 옷장','붙박이장','서랍장','모듈식','수납콤비네이션','추가옷걸이봉','선반','상판','하부몰딩','벽수납장','트레이테이블','보조테이블','선반유닛','수납테이블','수납스툴','이불','배게','매트리스커버','베드스프레드','탄성스트랩','담요','수납', '쇼파베드', '쇼파 베드', '쇼파커버', '쇼파 커버', '쇼파 1인', '쇼파 1인용', '1인 쇼파', '쇼파 2인', '쇼파 2인용', '쇼파 3인용', '쇼파3인', '쇼파커버 2인', '1인쇼파', '2인쇼파', '2인 쇼파', '3인 쇼파', '3인쇼파', '1인 쇼파베드', '2인 쇼파베드', '3인 쇼파베드', '긴의자', '1인용섹션', '2인용섹션', '3인용섹션', '데이베드프레임', '윙체어슬립커버', '6인용 모듈식 코너소파', '4인용 모듈식 소파 긴의자', ' 4인용 쇼파 풋스툴', '커피테이블','책장','선반유닛','선반','욕실', '욕실 세면대', '욕실 세면대세트', '욕실 세면', '욕실세면', '욕실 수납', '욕실수납', '욕실 세면대하부장', '욕실 샤워기', '욕실 세면기', '욕실 수전', '바테이블', '바테이블시스템', '책상', '의자', '스탠드','정리용품', '테이블', '영유아', '영유아 침대', '어린이 침대', '어린이 수납', '어린이 정리', '어린이 조명','주방','주방시스템','주방 시스템','주방 조리대', '조리대', '주방조리대', '식탁', '팬트리', '주방 팬트리','식품보관','긴의자', '카우치', '풋스툴', ' 발받침대', '윙체어', '리클라이너', '이지체어', '하이백암체어', '암체어쿠션', '흔들의자', '어린이암체어', '어린이암체어쿠션', '회전암체어', '실내외 윙체어', '패브릭 암체어', '가죽 암체어', '가죽 암체어', '라탄 암체어', '라탄 암체어', '우드 암체어', '우드 암체어', '라운지 체어', '라운지 체어', '리클라이너 체어', '리클라이너 체어', '체어베드', '체어베드', '어린이 암체어', '어린이 암체어', '긴의자 모듈', '긴의자섹션', '긴의자추가유닛', '긴 의자', '유닛', '수납풋스툴', '벤치', '쿠션형스툴', '기울어진 풋스툴', '풋스툴쿠션', '풋스툴슬립커버']\n",
    "for k in search_words:\n",
    "    endpoint = search.search(k, limit=3300) # 검색할 단어 엔드포인트로 지정\n",
    "    res = ikea_api.run(endpoint) # 검색 후 결과 딕셔너리로 받아옴\n",
    "    items = res['searchResultPage']['products']['main']['items'] # 불필요한 정보 제거\n",
    "    for i in items:\n",
    "        id = i['product']['id'] # 제품코드\n",
    "        if id not in items_names:\n",
    "            name = i['product']['name'] # 제품 이름\n",
    "            type = i['product']['typeName'] # 제품 타입\n",
    "            imgURL = i['product']['mainImageUrl'] # 제품 이미지\n",
    "            productUrl = i['product']['pipUrl']\n",
    "            colors = [j['name'] for j in i['product']['colors']] # 제품 색깔 목록\n",
    "            c_code = [j.get('hex', '') for j in i['product']['colors']]\n",
    "            if c_code not in color_code:\n",
    "                color_code.append(c_code)\n",
    "            ratingValue = i['product'].get('ratingValue',0.0) # 제품 별점 없으면 0.0\n",
    "            ratingCount = i['product'].get('ratingCount', 0) # 평가 받은 횟수 없으면 0\n",
    "            price = int(i['product']['salesPrice']['numeral']) # 가격\n",
    "            category = [j['name'] for j in i['product']['categoryPath']] #카테고리\n",
    "            itemMeasureReference = i['product']['itemMeasureReferenceText']\n",
    "            badge = i['product'].get('badge', '')\n",
    "            dict_temp = {'name' : name, 'type' : type, 'img_url' : imgURL, 'product_url' : productUrl,'id' : id, 'colors' : colors, 'rating_value' : ratingValue, 'rating_count' : ratingCount, 'price' : price, 'category' : category, 'item_measure' : itemMeasureReference, 'badge' : badge} # 딕셔너리화\n",
    "            items_names.append(id)\n",
    "            items_list.append(dict_temp) # 리스트에 담음 "
   ]
  },
  {
   "cell_type": "code",
   "execution_count": 60,
   "metadata": {},
   "outputs": [],
   "source": [
    "import csv\n",
    "with open('dict.csv', 'w', encoding='UTF-8') as file:\n",
    "    header = ['name', 'type', 'img_url','product_url', 'id', 'colors', 'rating_value', 'rating_count', 'price', 'category', 'item_measure', 'badge']\n",
    "    writer = csv.DictWriter(file, fieldnames=header)\n",
    "    writer.writeheader\n",
    "    for i in items_list:\n",
    "        writer.writerow(i)"
   ]
  }
 ],
 "metadata": {
  "kernelspec": {
   "display_name": "Python 3 (ipykernel)",
   "language": "python",
   "name": "python3"
  },
  "language_info": {
   "codemirror_mode": {
    "name": "ipython",
    "version": 3
   },
   "file_extension": ".py",
   "mimetype": "text/x-python",
   "name": "python",
   "nbconvert_exporter": "python",
   "pygments_lexer": "ipython3",
   "version": "3.10.9"
  }
 },
 "nbformat": 4,
 "nbformat_minor": 2
}
