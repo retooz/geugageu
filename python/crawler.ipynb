{
 "cells": [
  {
   "cell_type": "code",
   "execution_count": null,
   "metadata": {},
   "outputs": [],
   "source": [
    "%pip install beautifulsoup4\n",
    "%pip install selenium"
   ]
  },
  {
   "cell_type": "code",
   "execution_count": null,
   "metadata": {},
   "outputs": [],
   "source": [
    "\n",
    "from bs4 import BeautifulSoup\n",
    "from selenium import webdriver\n",
    "from selenium.webdriver.common.by import By\n",
    "from selenium.webdriver.support.wait import WebDriverWait\n",
    "from selenium.webdriver.support import expected_conditions as EC"
   ]
  },
  {
   "cell_type": "code",
   "execution_count": null,
   "metadata": {},
   "outputs": [],
   "source": [
    "url_list = [\n",
    "'https://www.ikea.com/kr/ko/p/mammut-childrens-stool-in-outdoor-dark-lilac-50382327/',\n",
    "'https://www.ikea.com/kr/ko/p/paeronholmen-bench-with-backrest-outdoor-red-jaerpoen-duvholmen-anthracite-s39426262/',\n",
    "'https://www.ikea.com/kr/ko/p/sjaelland-bench-outdoor-light-grey-light-brown-70401985/']\n",
    "info_list = []"
   ]
  },
  {
   "cell_type": "code",
   "execution_count": null,
   "metadata": {},
   "outputs": [],
   "source": [
    "options = webdriver.ChromeOptions()\n",
    "options.add_argument(\"--headless\")\n",
    "options.add_argument(\"--no-sandbox\")\n",
    "options.add_argument(\"--disable-gpu\")\n",
    "driver = webdriver.Chrome()\n",
    "# 페이지 이동\n",
    "for url in url_list :\n",
    "    driver.get(url)\n",
    "    wait = WebDriverWait(driver, timeout=5)\n",
    "    #상세 정보 클릭, wait\n",
    "    detail_x_path = '//*[@id=\"pip-product-information-section-list-0\"]/button'\n",
    "    info_btn = wait.until(EC.element_to_be_clickable((By.XPATH, detail_x_path)))\n",
    "    driver.execute_script(\"arguments[0].click();\", info_btn)\n",
    "    escape_x_path = '//*[@id=\"range-modal-mount-node\"]/div/div[3]/div/div[1]/button'\n",
    "    escape = wait.until(EC.element_to_be_clickable((By.XPATH, escape_x_path)))\n",
    "    #로딩된 상세정보 가져오기\n",
    "    html = driver.page_source\n",
    "    soup = BeautifulSoup(html, 'html.parser')\n",
    "    product_detail = soup.select('#range-modal-mount-node > div > div:nth-child(3) > div > div.pip-sheets__content-wrapper > div > div > div > div')\n",
    "    material = soup.select('#SEC_product-details-material-and-care > div > div > div:nth-child(2)')\n",
    "    summary_desc = soup.select('#content > div > div.pip-page-container__inner > div > div.pip-product__subgrid.product-pip.js-product-pip > div.pip-product__left-bottom > div.pip-product-summary > p')\n",
    "    # esc 누름\n",
    "    driver.execute_script(\"arguments[0].click();\", escape)\n",
    "    # 치수 버튼 누름\n",
    "    measure_x_path = '//*[@id=\"pip-product-information-section-list-1\"]/button'\n",
    "    measure_btn = wait.until(EC.element_to_be_clickable((By.XPATH, measure_x_path)))\n",
    "    driver.execute_script(\"arguments[0].click();\", measure_btn)\n",
    "    # 치수 가져오기\n",
    "    try :\n",
    "        loading_wait = wait.until(EC.visibility_of_element_located((By.XPATH, '//*[@id=\"range-modal-mount-node\"]/div/div[3]/div/div[2]/div/div/div/div[1]')))\n",
    "        html = driver.page_source\n",
    "        soup = BeautifulSoup(html, 'html.parser')\n",
    "        measure = soup.select('#range-modal-mount-node > div > div:nth-child(3) > div > div.pip-sheets__content-wrapper > div > div > div > div.pip-product-dimensions__dimensions-container')    \n",
    "    except Exception as ex:\n",
    "        loading_wait = wait.until(EC.visibility_of_element_located((By.XPATH, '//*[@id=\"SEC_measurements-packaging\"]')))\n",
    "        html = driver.page_source\n",
    "        soup = BeautifulSoup(html, 'html.parser')\n",
    "        measure = soup.find_all('#SEC_measurements-packaging > div')\n",
    "    # 딕셔너리화\n",
    "    dict = {'summary_desc' : summary_desc ,'product_detail' : product_detail, 'material' : material, 'measure' : measure}\n",
    "    info_list.append(dict)\n",
    "\n",
    "driver.close()"
   ]
  },
  {
   "cell_type": "code",
   "execution_count": null,
   "metadata": {},
   "outputs": [],
   "source": [
    "# TEST CODE\n",
    "info_list = []\n",
    "options = webdriver.ChromeOptions()\n",
    "options.add_argument(\"--headless\")\n",
    "options.add_argument(\"--no-sandbox\")\n",
    "options.add_argument(\"--disable-gpu\")\n",
    "driver = webdriver.Chrome()\n",
    "driver.get('https://www.ikea.com/kr/ko/p/hauga-bedroom-furniture-set-of-2-white-s09486083/')\n",
    "wait = WebDriverWait(driver, timeout=3)\n",
    "#상세 정보 클릭, wait\n",
    "detail_x_path = '/html/body/main/div/div[1]/div/div[2]/div[3]/div[2]/ul/li[1]/button/span[1]/span/span'\n",
    "info_btn = wait.until(EC.element_to_be_clickable((By.XPATH, detail_x_path)))\n",
    "driver.execute_script(\"arguments[0].click();\", info_btn)\n",
    "escape_x_path = '//*[@id=\"range-modal-mount-node\"]/div/div[3]/div/div[1]/button'\n",
    "escape = wait.until(EC.element_to_be_clickable((By.XPATH, escape_x_path)))\n",
    "#로딩된 상세정보 가져오기\n",
    "html = driver.page_source\n",
    "soup = BeautifulSoup(html, 'html.parser')\n",
    "product_detail = soup.select('#range-modal-mount-node > div > div:nth-child(3) > div > div.pip-sheets__content-wrapper > div > div > div > div')\n",
    "material = soup.select('#SEC_product-details-material-and-care > div > div > div:nth-child(2)')\n",
    "summary_desc = soup.select('#content > div > div.pip-page-container__inner > div > div.pip-product__subgrid.product-pip.js-product-pip > div.pip-product__left-bottom > div.pip-product-summary > p')\n",
    "# esc 누름\n",
    "driver.execute_script(\"arguments[0].click();\", escape)\n",
    "# 치수 버튼 누름\n",
    "measure_x_path = '//*[@id=\"pip-product-information-section-list-1\"]/button'\n",
    "measure_btn = wait.until(EC.element_to_be_clickable((By.XPATH, measure_x_path)))\n",
    "driver.execute_script(\"arguments[0].click();\", measure_btn)\n",
    "# 치수 가져오기\n",
    "try :\n",
    "    loading_wait = wait.until(EC.visibility_of_element_located((By.XPATH, '//*[@id=\"range-modal-mount-node\"]/div/div[3]/div/div[2]/div/div/div/div[1]')))\n",
    "    html = driver.page_source\n",
    "    soup = BeautifulSoup(html, 'html.parser')\n",
    "    measure = soup.select('#range-modal-mount-node > div > div:nth-child(3) > div > div.pip-sheets__content-wrapper > div > div > div > div.pip-product-dimensions__dimensions-container')    \n",
    "except Exception as ex:\n",
    "    loading_wait = wait.until(EC.visibility_of_element_located((By.XPATH, '//*[@id=\"SEC_measurements-packaging\"]/div/div/div[2]')))\n",
    "    html = driver.page_source\n",
    "    soup = BeautifulSoup(html, 'html.parser')\n",
    "    measure = soup.select('#SEC_measurements-packaging > div')\n",
    "dict = {'summary_desc' : summary_desc ,'product_detail' : product_detail, 'material' : material, 'measure' : measure}\n",
    "info_list.append(dict)\n",
    "driver.close()"
   ]
  },
  {
   "cell_type": "code",
   "execution_count": null,
   "metadata": {},
   "outputs": [],
   "source": []
  }
 ],
 "metadata": {
  "kernelspec": {
   "display_name": "base",
   "language": "python",
   "name": "python3"
  },
  "language_info": {
   "codemirror_mode": {
    "name": "ipython",
    "version": 3
   },
   "file_extension": ".py",
   "mimetype": "text/x-python",
   "name": "python",
   "nbconvert_exporter": "python",
   "pygments_lexer": "ipython3",
   "version": "3.10.9"
  },
  "orig_nbformat": 4
 },
 "nbformat": 4,
 "nbformat_minor": 2
}
